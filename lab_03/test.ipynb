{
 "cells": [
  {
   "cell_type": "code",
   "execution_count": 118,
   "outputs": [],
   "source": [
    "a = [1] * 100\n",
    "b1 = [i for i in range(0, 99)]\n",
    "b2 = [i for i in range(0, 99, 2)]\n",
    "b3 = [i for i in range(0, 99, 3)]\n",
    "c1 = [i*i for i in b1]\n",
    "c2 = [i*i for i in b2]\n",
    "c3 = [i*i for i in b3]\n",
    "d1 = [i*i*i for i in b1]\n",
    "d2 = [i*i*i for i in b2]\n",
    "d3 = [i*i*i for i in b3]\n",
    "\n",
    "import random\n",
    "r = random.sample(range(1, 110), 100)"
   ],
   "metadata": {
    "collapsed": false
   }
  },
  {
   "cell_type": "code",
   "execution_count": 192,
   "outputs": [],
   "source": [
    "from collections.abc import Sequence\n",
    "\n",
    "\n",
    "# 1. все пары чисел\n",
    "# 2. дельты от них (отдельно)\n",
    "# 3. K — кол-во уникальных элементов в каждой новой послед.\n",
    "# 4. R = K / (кол-во эл-тов )\n",
    "# 5. критерий - R стремится к 1\n",
    "\n",
    "def __slice(seq: Sequence[int], step: int) -> Sequence[int]:\n",
    "\treturn [abs(seq[i] - seq[i+step]) for i in range(0, len(seq) - step, 1)]\n",
    "\n",
    "def __unique_qty(seq: Sequence[int]) -> float:\n",
    "\tk = len(set(seq))\n",
    "\tl = len(seq)\n",
    "\treturn (k - 1) / l\n",
    "\n",
    "def handler1(seq: Sequence[int]) -> float:\n",
    "\tres = []\n",
    "\tfor step in range(1, len(seq) - 1):\n",
    "\t\tres.append(__unique_qty(__slice(seq, step)))\n",
    "\n",
    "\treturn sum(res) / len(res)\n",
    "\n",
    "\n",
    "def test() -> None:\n",
    "\tfor seq in (a,b1,b2,b3,c1,c2,c3,d1,d2,d3,r):\n",
    "\t\tprint(handler1(seq))\n"
   ],
   "metadata": {
    "collapsed": false
   }
  },
  {
   "cell_type": "code",
   "execution_count": 193,
   "outputs": [
    {
     "name": "stdout",
     "output_type": "stream",
     "text": [
      "0.0\n",
      "0.0\n",
      "0.0\n",
      "0.0\n",
      "0.9570383865202204\n",
      "0.9275165554514698\n",
      "0.9013388646633381\n",
      "0.9570383865202204\n",
      "0.9275165554514698\n",
      "0.9013388646633381\n",
      "0.7327028238723335\n"
     ]
    }
   ],
   "source": [
    "test()"
   ],
   "metadata": {
    "collapsed": false
   }
  },
  {
   "cell_type": "code",
   "execution_count": null,
   "outputs": [],
   "source": [],
   "metadata": {
    "collapsed": false
   }
  }
 ],
 "metadata": {
  "kernelspec": {
   "display_name": "Python 3",
   "language": "python",
   "name": "python3"
  },
  "language_info": {
   "codemirror_mode": {
    "name": "ipython",
    "version": 2
   },
   "file_extension": ".py",
   "mimetype": "text/x-python",
   "name": "python",
   "nbconvert_exporter": "python",
   "pygments_lexer": "ipython2",
   "version": "2.7.6"
  }
 },
 "nbformat": 4,
 "nbformat_minor": 0
}
